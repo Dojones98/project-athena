{
 "cells": [
  {
   "cell_type": "markdown",
   "metadata": {},
   "source": [
    "# Machine Learning Systems Task 2\n",
    "_Daniel Jones, Praful Chunchu, Ravi Patel and Austin Staton_\n",
    "\n",
    "**Objective**: Build a hybrid ensemble of weak defenses. \n",
    "\n",
    "We will be creating a variant to the [Athena](https://arxiv.org/pdf/2001.00308.pdf) framework, using a randomized hybrid model of weak defenses. This extention will select a random set of weak defenses, where the sets have random sizes. Random weak defenses will include defenses against things such as, but not limited to: rotations, flips, shifts, filters, and compressions. The efficacy of this approach will be examined in the terms of its each defense's success, based on the time restrictions and success rate.\n"
   ]
  },
  {
   "cell_type": "markdown",
   "metadata": {},
   "source": [
    "#### Subsampling  ? \n",
    "Should we talk about this?"
   ]
  },
  {
   "cell_type": "markdown",
   "metadata": {},
   "source": [
    " # Relevant Files\n",
    "\n",
    "\n",
    " \n",
    " "
   ]
  },
  {
   "cell_type": "markdown",
   "metadata": {},
   "source": [
    "***\n",
    "# Experimental Approach\n"
   ]
  },
  {
   "cell_type": "markdown",
   "metadata": {},
   "source": [
    "***\n",
    "# Evaluation of Each Defense\n",
    "\n"
   ]
  },
  {
   "cell_type": "markdown",
   "metadata": {},
   "source": [
    "***\n",
    "## Contributions\n",
    "### Austin Staton\n",
    "### Daniel Jones\n",
    "### Praful Chunchu\n",
    "### Ravi Patel"
   ]
  }
 ],
 "metadata": {
  "kernelspec": {
   "display_name": "Python 3",
   "language": "python",
   "name": "python3"
  },
  "language_info": {
   "codemirror_mode": {
    "name": "ipython",
    "version": 3
   },
   "file_extension": ".py",
   "mimetype": "text/x-python",
   "name": "python",
   "nbconvert_exporter": "python",
   "pygments_lexer": "ipython3",
   "version": "3.7.9"
  }
 },
 "nbformat": 4,
 "nbformat_minor": 4
}
